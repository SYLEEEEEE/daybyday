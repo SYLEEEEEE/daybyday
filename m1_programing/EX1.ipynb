{
 "cells": [
  {
   "cell_type": "markdown",
   "id": "4b23bb04",
   "metadata": {},
   "source": [
    "# Q1. 남녀 파트너 정해주기 프로그램(zip) \n",
    "같은 수의 남녀 모임에서 파트너를 랜덤하게 정해주는 프로그램을 만들어 보세요\n",
    "\n",
    "male = ['철수','갑돌','로미오','이몽룡','온돌']\n",
    "\n",
    "female = ['미미','갑순','줄리엣','성춘향','평강']\n",
    "zip 함수 사용\n"
   ]
  },
  {
   "cell_type": "code",
   "execution_count": 1,
   "id": "c457663d",
   "metadata": {
    "scrolled": false
   },
   "outputs": [
    {
     "name": "stdout",
     "output_type": "stream",
     "text": [
      "커플1:이몽룡,미미\n",
      "커플2:로미오,줄리엣\n",
      "커플3:갑돌,성춘향\n",
      "커플4:온돌,평강\n",
      "커플5:철수,갑순\n"
     ]
    }
   ],
   "source": [
    "import random\n",
    "male = ['철수','갑돌','로미오','이몽룡','온돌']\n",
    "female = ['미미','갑순','줄리엣','성춘향','평강']\n",
    "random.shuffle(male)\n",
    "random.shuffle(female)\n",
    "couples = zip(male, female)\n",
    "for i, couple in enumerate(couples):\n",
    "    print(f'커플{i+1}:{couple[0]},{couple[1]}')"
   ]
  },
  {
   "cell_type": "markdown",
   "id": "e8e14339",
   "metadata": {},
   "source": [
    "# Q2. 사용자가 입력한 횟수만큼 로또 번호를 출력하는 프로그램을 작성하세요.\n",
    "중복불가 45개 중에 6개"
   ]
  },
  {
   "cell_type": "code",
   "execution_count": 2,
   "id": "b1f2ca1e",
   "metadata": {},
   "outputs": [
    {
     "name": "stdout",
     "output_type": "stream",
     "text": [
      "자동 몇 줄 추출할거임?(숫자입력)1\n",
      "[18, 6, 7, 9, 22, 41]\n"
     ]
    }
   ],
   "source": [
    "a = int(input('자동 몇 줄 추출할거임?(숫자입력)'))\n",
    "for i in range(a):\n",
    "    print(random.sample(range(1,46), 6))"
   ]
  },
  {
   "cell_type": "markdown",
   "id": "b690c9b1",
   "metadata": {},
   "source": [
    "## 도전  \n",
    "발표자를 원하는 수 만큼 랜덤하게 출력하는 프로그램을 작성하세요."
   ]
  },
  {
   "cell_type": "code",
   "execution_count": 3,
   "id": "137192c6",
   "metadata": {},
   "outputs": [
    {
     "data": {
      "text/plain": [
       "25"
      ]
     },
     "execution_count": 3,
     "metadata": {},
     "output_type": "execute_result"
    }
   ],
   "source": [
    "cakd7 = ['박영권','김현지','김덕현','변서연','한지웅','양주희','이호원','정지은','이정현A','이상윤','이명진','조승현','강유한','김영선','최애림','김민섭','박혜린','이정현B','윤정준','김진형','정승기','진청아','신창훈','김병석','박세희'] \n",
    "len(cakd7)"
   ]
  },
  {
   "cell_type": "code",
   "execution_count": 4,
   "id": "dbbb68f5",
   "metadata": {},
   "outputs": [
    {
     "name": "stdout",
     "output_type": "stream",
     "text": [
      "발표자 몇 명 뽑을까요?1\n",
      "1번 문제 : 한지웅\n"
     ]
    }
   ],
   "source": [
    "a = int(input('발표자 몇 명 뽑을까요?'))\n",
    "b = random.sample(cakd7,a)\n",
    "for i in range(a):\n",
    "    print(f\"{i+1}번 문제 : {b[i]}\")"
   ]
  },
  {
   "cell_type": "markdown",
   "id": "d553971f",
   "metadata": {},
   "source": [
    "# Q3. 입력받은 문자열의 각 문자를 그 다음 문자로 변경하여 출력하세요 abc ->bca"
   ]
  },
  {
   "cell_type": "code",
   "execution_count": 5,
   "id": "59d6e84f",
   "metadata": {},
   "outputs": [
    {
     "name": "stdout",
     "output_type": "stream",
     "text": [
      "문자를 입력하세요123\n"
     ]
    },
    {
     "data": {
      "text/plain": [
       "'231'"
      ]
     },
     "execution_count": 5,
     "metadata": {},
     "output_type": "execute_result"
    }
   ],
   "source": [
    "s = input(\"문자를 입력하세요\")\n",
    "s[1:] + s[0]"
   ]
  },
  {
   "cell_type": "code",
   "execution_count": 6,
   "id": "ea749c8e",
   "metadata": {},
   "outputs": [
    {
     "name": "stdout",
     "output_type": "stream",
     "text": [
      "문장을 입력하세요123\n",
      "312\n"
     ]
    }
   ],
   "source": [
    "#abc -> cab\n",
    "text = input(\"문장을 입력하세요\")\n",
    "ret = ''\n",
    "for i in range(len(text)):\n",
    "    if i != len(text) :\n",
    "        ret += text[i-1]\n",
    "    else:\n",
    "        ret += text[0]\n",
    "print(ret)"
   ]
  },
  {
   "cell_type": "markdown",
   "id": "4e60236e",
   "metadata": {},
   "source": [
    "# Q4. url에서 호스트 도메인을 추출하여 출력하세요.\n",
    "url = 'http://news.naver.com/main/read.nhn?mode=LSD&mid=shm&sid1=105&oid=028&aid=0002334601'\n"
   ]
  },
  {
   "cell_type": "code",
   "execution_count": 7,
   "id": "999460bc",
   "metadata": {},
   "outputs": [
    {
     "data": {
      "text/plain": [
       "'news.naver.com'"
      ]
     },
     "execution_count": 7,
     "metadata": {},
     "output_type": "execute_result"
    }
   ],
   "source": [
    "import re\n",
    "url = 'http://news.naver.com/main/read.nhn?mode=LSD&mid=shm&sid1=105&oid=028&aid=0002334601'\n",
    "a = re.compile(r\"http://([\\w.]+)\")\n",
    "b = a.findall(url) #findal은 리스트화 \n",
    "b[0]"
   ]
  },
  {
   "cell_type": "code",
   "execution_count": 8,
   "id": "dc111a9f",
   "metadata": {},
   "outputs": [
    {
     "data": {
      "text/plain": [
       "'news.naver.com'"
      ]
     },
     "execution_count": 8,
     "metadata": {},
     "output_type": "execute_result"
    }
   ],
   "source": [
    "url = 'http://news.naver.com/main/read.nhn?mode=LSD&mid=shm&sid1=105&oid=028&aid=0002334601'\n",
    "\n",
    "tmp = url.split('/')\n",
    "tmp[2]"
   ]
  },
  {
   "cell_type": "markdown",
   "id": "5d0e8b0f",
   "metadata": {},
   "source": [
    "# Q5. url에서 쿼리문을 추출하여 출력하세요"
   ]
  },
  {
   "cell_type": "code",
   "execution_count": 9,
   "id": "087863c3",
   "metadata": {},
   "outputs": [],
   "source": [
    "# url에서 '?'뒤에 표시되는 문자열을 쿼리 문자열이라고 하며 변수=값 사이 &로 \n",
    "# 구분되어 나열된다.\n",
    "url = 'http://news.naver.com/main/read.nhn?mode=LSD&mid=shm&sid1=105&oid=028&aid=0002334601'\n"
   ]
  },
  {
   "cell_type": "code",
   "execution_count": 10,
   "id": "d68f369d",
   "metadata": {},
   "outputs": [
    {
     "data": {
      "text/plain": [
       "['mid=shm', 'sid1=105', 'oid=028', 'aid=0002334601']"
      ]
     },
     "execution_count": 10,
     "metadata": {},
     "output_type": "execute_result"
    }
   ],
   "source": [
    "url = 'http://news.naver.com/main/read.nhn?mode=LSD&mid=shm&sid1=105&oid=028&aid=0002334601'\n",
    "tmp = url.split('&')\n",
    "tmp.remove(tmp[0])\n",
    "tmp"
   ]
  },
  {
   "cell_type": "markdown",
   "id": "dae239e4",
   "metadata": {},
   "source": [
    "# Q6. 텍스트 파일(mydata.txt)을 읽고  파일의 내용에서 나타나는 문자들에 대해 자주 나타나는 문자들을 아래와 같이 순서대로 출력하세요.\n",
    "- \\[ \\] -> [177]회 나타남\n",
    "- [e] -> [97]회 나타남\n",
    "- [t] -> [85]회 나타남\n",
    "   \n",
    "   \n",
    "   문장.count(문자)\n"
   ]
  },
  {
   "cell_type": "code",
   "execution_count": 11,
   "id": "954c38e1",
   "metadata": {},
   "outputs": [],
   "source": [
    "import re\n",
    "with open('mydata.txt',\"r\") as f:\n",
    "    lines = f.readlines()\n",
    "ci = ['a','b','c','d','e','f','g','h','i','j','k','l','m','n','o','p','q','r','s','t','u','v','w','x','y','z',' ',\"'\",'!']"
   ]
  },
  {
   "cell_type": "code",
   "execution_count": 12,
   "id": "9906cc2e",
   "metadata": {},
   "outputs": [
    {
     "data": {
      "text/plain": [
       "\"we've got to live with on our way\\n\""
      ]
     },
     "execution_count": 12,
     "metadata": {},
     "output_type": "execute_result"
    }
   ],
   "source": [
    "lines[1]"
   ]
  },
  {
   "cell_type": "code",
   "execution_count": 13,
   "id": "e0ca878e",
   "metadata": {},
   "outputs": [
    {
     "data": {
      "text/plain": [
       "[(' ', 177),\n",
       " ('e', 97),\n",
       " ('t', 85),\n",
       " ('a', 78),\n",
       " ('o', 73),\n",
       " ('n', 60),\n",
       " ('s', 60),\n",
       " ('r', 54),\n",
       " ('i', 50),\n",
       " ('h', 48),\n",
       " ('l', 34),\n",
       " ('u', 27),\n",
       " ('d', 24),\n",
       " ('c', 23),\n",
       " ('m', 20),\n",
       " ('w', 20),\n",
       " ('f', 17),\n",
       " ('p', 15),\n",
       " ('y', 15),\n",
       " ('b', 13),\n",
       " ('g', 11),\n",
       " ('v', 9),\n",
       " (\"'\", 8),\n",
       " ('k', 7),\n",
       " ('!', 2),\n",
       " ('j', 0),\n",
       " ('q', 0),\n",
       " ('x', 0),\n",
       " ('z', 0)]"
      ]
     },
     "execution_count": 13,
     "metadata": {},
     "output_type": "execute_result"
    }
   ],
   "source": [
    "\n",
    "import operator\n",
    "di={}\n",
    "sum=0\n",
    "for j in ci:\n",
    "    for i in range(0, len(lines)):\n",
    "        sum += lines[i].count(j)\n",
    "        di[j]=sum\n",
    "    sum=0          \n",
    "# dii = sorted(di.values(), reverse=True)\n",
    "# dii\n",
    "dii = sorted(di.items(), key=operator.itemgetter(1), reverse=True)\n",
    "dii"
   ]
  },
  {
   "cell_type": "code",
   "execution_count": 14,
   "id": "d9630f02",
   "metadata": {},
   "outputs": [
    {
     "name": "stdout",
     "output_type": "stream",
     "text": [
      "[(' ', 177), ('e', 97), ('t', 85), ('a', 78), ('o', 73), ('n', 60), ('s', 60), ('r', 54), ('i', 50), ('h', 48), ('\\n', 43), ('l', 34), ('u', 27), ('d', 24), ('c', 23), ('w', 20), ('m', 20), ('f', 17), ('y', 15), ('p', 15), ('b', 13), ('g', 11), ('v', 9), (\"'\", 8), ('k', 7), ('!', 2)]\n",
      "[ ] - > [177]회 나타남\n",
      "[e] - > [97]회 나타남\n",
      "[t] - > [85]회 나타남\n",
      "[a] - > [78]회 나타남\n",
      "[o] - > [73]회 나타남\n",
      "[n] - > [60]회 나타남\n",
      "[s] - > [60]회 나타남\n",
      "[r] - > [54]회 나타남\n",
      "[i] - > [50]회 나타남\n",
      "[h] - > [48]회 나타남\n",
      "[l] - > [34]회 나타남\n",
      "[u] - > [27]회 나타남\n",
      "[d] - > [24]회 나타남\n",
      "[c] - > [23]회 나타남\n",
      "[w] - > [20]회 나타남\n",
      "[m] - > [20]회 나타남\n",
      "[f] - > [17]회 나타남\n",
      "[y] - > [15]회 나타남\n",
      "[p] - > [15]회 나타남\n",
      "[b] - > [13]회 나타남\n",
      "[g] - > [11]회 나타남\n",
      "[v] - > [9]회 나타남\n",
      "['] - > [8]회 나타남\n",
      "[k] - > [7]회 나타남\n",
      "[!] - > [2]회 나타남\n"
     ]
    }
   ],
   "source": [
    "def getTextFreq(filename):\n",
    "    with open('mydata.txt',\"r\") as f:\n",
    "        text = f.read()\n",
    "        fa = {}\n",
    "        for c in text:\n",
    "            if c in fa:\n",
    "                fa[c] += 1\n",
    "            else:\n",
    "                fa[c] = 1\n",
    "    return fa\n",
    "ret = getTextFreq('data/mydata.txt')\n",
    "ret = sorted(ret.items(),key=lambda x:x[1], reverse=True)\n",
    "print(ret)\n",
    "for c, freq in ret:\n",
    "    if c =='\\n':\n",
    "        continue\n",
    "    print('[%c] - > [%d]회 나타남' %(c,freq))\n"
   ]
  },
  {
   "cell_type": "markdown",
   "id": "018467ca",
   "metadata": {},
   "source": [
    "# Q7. 두개의 수를 입력한 후 두개의 수에 대한 사칙연산을 수행하세요.(0을 입력한 경우 다시 입력하도록 조치)"
   ]
  },
  {
   "cell_type": "code",
   "execution_count": 15,
   "id": "ead876c6",
   "metadata": {
    "scrolled": true
   },
   "outputs": [
    {
     "name": "stdout",
     "output_type": "stream",
     "text": [
      "첫번째 숫자1\n",
      "두번째 숫자1\n",
      "덧셈 : 2\n",
      "뺄셈 : 0\n",
      "곱셈 : 1\n",
      "나눗셈 : 1.0\n"
     ]
    }
   ],
   "source": [
    "# class를 만들어서 작성하세요\n",
    "class Cal4:\n",
    "    def __init__(self, a, b):\n",
    "        self.a = a\n",
    "        self.b = b\n",
    "    def add(self):\n",
    "            return self.a+self.b\n",
    "    def sub(self):\n",
    "            return self.a-self.b\n",
    "    def mul(self):\n",
    "            return self.a*self.b\n",
    "    def div(self):\n",
    "            return self.a/self.b\n",
    "while True:\n",
    "    a = int(input(\"첫번째 숫자\"))\n",
    "    b = int(input(\"두번째 숫자\"))\n",
    "    if b == 0:\n",
    "        print(\"0이 아닌 숫자를 입력하세요\")\n",
    "        continue\n",
    "    else:\n",
    "        cals = Cal4(a,b)\n",
    "        print(f\"덧셈 : {cals.add()}\")\n",
    "        print(f\"뺄셈 : {cals.sub()}\")\n",
    "        print(f\"곱셈 : {cals.mul()}\")\n",
    "        print(f\"나눗셈 : {cals.div()}\")\n",
    "        break\n",
    "                    \n"
   ]
  },
  {
   "cell_type": "markdown",
   "id": "fa4a9984",
   "metadata": {},
   "source": [
    "# Q8. Order 클래스를 상속받아 ExtraOrder 클래스에서 메소드 오버라이딩하여 출력가격에 원이 추가되도록 출력하세요\n"
   ]
  },
  {
   "cell_type": "code",
   "execution_count": 16,
   "id": "7f64ef9f",
   "metadata": {},
   "outputs": [
    {
     "name": "stdout",
     "output_type": "stream",
     "text": [
      "고갱님의 주문금액은 1000원 입니다\n"
     ]
    }
   ],
   "source": [
    "class Order: \n",
    "    def __init__(self, name): \n",
    "        self.customer = 0 \n",
    "        self.name = name \n",
    "    def order(self, price): \n",
    "        self.customer += price \n",
    "        return self.customer\n",
    "\n",
    "order = Order('고갱')\n",
    "\n",
    "class ExtraOrder(Order):\n",
    "    def __init__(self, name):\n",
    "        super().__init__(name)\n",
    "    def order(self, price):\n",
    "        super().order(price)\n",
    "        print(f'{self.name}님의 주문금액은 {self.customer}원 입니다')\n",
    "order = ExtraOrder('고갱')\n",
    "order.order(1000)\n",
    "    "
   ]
  },
  {
   "cell_type": "markdown",
   "id": "77f54051",
   "metadata": {},
   "source": [
    "#  Q9. 업무미팅이 2시임을 알려주는 자동 이메일 클래스 AutoEmail을 작성하여 아래와 같이 출력하세요 (미팅이 진행되는 2시에는 업무미팅이 진행중이라는 문구를 추가)\n",
    "\n",
    "안녕하세요 고갱님. 업무미팅은 2시입니다."
   ]
  },
  {
   "cell_type": "code",
   "execution_count": 17,
   "id": "ab83e594",
   "metadata": {
    "scrolled": true
   },
   "outputs": [
    {
     "name": "stdout",
     "output_type": "stream",
     "text": [
      "안녕하세요 고갱님, 업무미팅은 9시 입니다.\n"
     ]
    }
   ],
   "source": [
    "import time\n",
    "class AutoEmail:\n",
    "    def __init__(self, name, t):\n",
    "        self.name = name\n",
    "        self.t = t\n",
    "    def alarm(self):\n",
    "        if time.localtime().tm_hour==self.t:\n",
    "            print(f\"{self.name}님, 업무미팅이 진행중 입니다.\")\n",
    "        else:\n",
    "            print(f\"안녕하세요 {self.name}님, 업무미팅은 {self.t}시 입니다.\")\n",
    "AE= AutoEmail(\"고갱\",9)\n",
    "AE.alarm()        "
   ]
  },
  {
   "cell_type": "markdown",
   "id": "8f630be3",
   "metadata": {},
   "source": [
    "0719"
   ]
  },
  {
   "cell_type": "markdown",
   "id": "8e457b8c",
   "metadata": {},
   "source": [
    "# Q10. 정규표현식을 사용하여 text에서 전화번호만 출력하세요.\n",
    "text = \"문의사항이 있으면 032-232-3245로 연락주시기 바랍니다.\""
   ]
  },
  {
   "cell_type": "code",
   "execution_count": 18,
   "id": "7106af3f",
   "metadata": {},
   "outputs": [
    {
     "data": {
      "text/plain": [
       "['032-232-3245']"
      ]
     },
     "execution_count": 18,
     "metadata": {},
     "output_type": "execute_result"
    }
   ],
   "source": [
    "import re\n",
    "text = \"문의사항이 있으면 032-232-3245로 연락주시기 바랍니다.\"\n",
    "a= re.compile(r'\\d+-\\d+-\\d+')\n",
    "a.findall(text)\n",
    "# 서치로 하면 된다는디?"
   ]
  },
  {
   "cell_type": "code",
   "execution_count": 19,
   "id": "497ea0f9",
   "metadata": {},
   "outputs": [
    {
     "data": {
      "text/plain": [
       "<re.Match object; span=(10, 22), match='032-232-3245'>"
      ]
     },
     "execution_count": 19,
     "metadata": {},
     "output_type": "execute_result"
    }
   ],
   "source": [
    "text = \"문의사항이 있으면 032-232-3245로 연락주시기 바랍니다.\"\n",
    "a= re.compile(r'\\d+-\\d+-\\d+')\n",
    "a.search(text)"
   ]
  },
  {
   "cell_type": "markdown",
   "id": "fd0a8997",
   "metadata": {},
   "source": [
    "# Q11. 정규표현식을 사용하여 text에서 에러가 들어간 부분만 포함하는 리스트를 출력하세요\n",
    "text = \"에러 1122, 레퍼런스 오류, 에러 1033, 아규머먼트 오류, 에러 xxx\""
   ]
  },
  {
   "cell_type": "code",
   "execution_count": 20,
   "id": "f36e6037",
   "metadata": {},
   "outputs": [
    {
     "data": {
      "text/plain": [
       "['에러 1122', '에러 1033', '에러 xxx']"
      ]
     },
     "execution_count": 20,
     "metadata": {},
     "output_type": "execute_result"
    }
   ],
   "source": [
    "text = \"에러 1122, 레퍼런스 오류, 에러 1033, 아규머먼트 오류, 에러 xxx\"\n",
    "a = re.compile(r\"\\w{2} [0-9a-z]+\")   #\\s = 띄어쓰기    \\D 숫자 아닌 모든것 문자 기호등..  \\d 숫자만  \n",
    "b = a.findall(text)\n",
    "b"
   ]
  },
  {
   "cell_type": "code",
   "execution_count": 21,
   "id": "ae9f9015",
   "metadata": {},
   "outputs": [
    {
     "data": {
      "text/plain": [
       "['에러 1122', '에러 1033', '에러 xxx']"
      ]
     },
     "execution_count": 21,
     "metadata": {},
     "output_type": "execute_result"
    }
   ],
   "source": [
    "c = re.compile(r\"에러 \\w+\")\n",
    "d = c.findall(text)\n",
    "d"
   ]
  },
  {
   "cell_type": "markdown",
   "id": "2685f042",
   "metadata": {},
   "source": [
    "# Q12. 정규포현식을 사용하여 text에서 지역코드만 출력하세요\n",
    "text = \"문의사항이 있으면 032-232-3245로 연락주시기 바랍니다.\""
   ]
  },
  {
   "cell_type": "code",
   "execution_count": 22,
   "id": "28a586d3",
   "metadata": {},
   "outputs": [
    {
     "data": {
      "text/plain": [
       "'032'"
      ]
     },
     "execution_count": 22,
     "metadata": {},
     "output_type": "execute_result"
    }
   ],
   "source": [
    "text = \"문의사항이 있으면 032-232-3245로 연락주시기 바랍니다.\"\n",
    "a = re.compile(r\"(\\d+)-(\\d+)-(\\d+)\")\n",
    "b = a.findall(text)\n",
    "b[0][0]"
   ]
  },
  {
   "cell_type": "code",
   "execution_count": 23,
   "id": "d18c93cd",
   "metadata": {},
   "outputs": [
    {
     "data": {
      "text/plain": [
       "'032'"
      ]
     },
     "execution_count": 23,
     "metadata": {},
     "output_type": "execute_result"
    }
   ],
   "source": [
    "text = \"문의사항이 있으면 032-232-3245로 연락주시기 바랍니다.\"\n",
    "a = re.compile(r\"(\\d+)-(\\d+)-(\\d+)\")\n",
    "b = a.search(text)\n",
    "b.group(1)"
   ]
  },
  {
   "cell_type": "markdown",
   "id": "4cb7c11a",
   "metadata": {},
   "source": [
    "# Q13. 정규표현식을 사용하여 text에서 지역코드를 제외한 번호만 출력하세요.\n",
    "text = \"문의사항이 있으면 032-232-3245로 연락주시기 바랍니다.\""
   ]
  },
  {
   "cell_type": "code",
   "execution_count": 24,
   "id": "5aee8c75",
   "metadata": {},
   "outputs": [
    {
     "data": {
      "text/plain": [
       "'232-3245'"
      ]
     },
     "execution_count": 24,
     "metadata": {},
     "output_type": "execute_result"
    }
   ],
   "source": [
    "text = \"문의사항이 있으면 032-232-3245로 연락주시기 바랍니다.\"\n",
    "a = re.compile(r\"(\\d+)-(\\d+[-]\\d+)\")\n",
    "b = a.findall(text)\n",
    "b[0][1]"
   ]
  },
  {
   "cell_type": "code",
   "execution_count": 25,
   "id": "2a3deb52",
   "metadata": {},
   "outputs": [
    {
     "data": {
      "text/plain": [
       "'232-3245'"
      ]
     },
     "execution_count": 25,
     "metadata": {},
     "output_type": "execute_result"
    }
   ],
   "source": [
    "text = \"문의사항이 있으면 032-232-3245로 연락주시기 바랍니다.\"\n",
    "a = re.compile(r\"(\\d+)-(\\d+[-]\\d+)\")\n",
    "b = a.search(text)\n",
    "b.group(2)"
   ]
  },
  {
   "cell_type": "markdown",
   "id": "5e76eb9b",
   "metadata": {},
   "source": [
    "# Q14.'abcdefghij' 에 대하여 중첩을 적용한 서브그룹 5개로 컴파일하여 group()함수를 이용하여 'abcdefghi'와 e'를 출력하세요\n"
   ]
  },
  {
   "cell_type": "code",
   "execution_count": 26,
   "id": "df337bbc",
   "metadata": {
    "scrolled": true
   },
   "outputs": [
    {
     "name": "stdout",
     "output_type": "stream",
     "text": [
      "abcdefghi e\n"
     ]
    }
   ],
   "source": [
    "text = 'abcdefghij'\n",
    "# a = \"((a(b(cd(e)f)gh)i)j)\"\n",
    "a = re.compile(r\"((\\w(\\w(\\w{2}(\\w)\\w)\\w{2})\\w)\\w)\")\n",
    "b = a.search(text)\n",
    "b\n",
    "# print(b[0][1], b[0][4])\n",
    "print(b.group(2), b.group(5))"
   ]
  },
  {
   "cell_type": "code",
   "execution_count": 27,
   "id": "5e25942b",
   "metadata": {},
   "outputs": [
    {
     "data": {
      "text/plain": [
       "('abcdefghi', 'e')"
      ]
     },
     "execution_count": 27,
     "metadata": {},
     "output_type": "execute_result"
    }
   ],
   "source": [
    "a = re.compile(r\"((a(b(cd(e)f)gh)i)j)\")\n",
    "b = a.search(text)\n",
    "# print(b.group(2), b.group(5))\n",
    "b.group(2,5)"
   ]
  },
  {
   "cell_type": "markdown",
   "id": "73a9e6f1",
   "metadata": {},
   "source": [
    "# Q15. 위 문제에서 모든 서브 그룹에 대한 문자열을 포함하는 튜플을 출력하세요. finditer? search? match? groups면 됨"
   ]
  },
  {
   "cell_type": "code",
   "execution_count": 28,
   "id": "66f6a597",
   "metadata": {
    "scrolled": true
   },
   "outputs": [
    {
     "data": {
      "text/plain": [
       "('abcdefghij', 'abcdefghi', 'bcdefgh', 'cdef', 'e')"
      ]
     },
     "execution_count": 28,
     "metadata": {},
     "output_type": "execute_result"
    }
   ],
   "source": [
    "b.groups()"
   ]
  },
  {
   "cell_type": "markdown",
   "id": "5fa568b7",
   "metadata": {},
   "source": [
    "0720"
   ]
  },
  {
   "cell_type": "markdown",
   "id": "3317c109",
   "metadata": {},
   "source": [
    "# Q16. 이름으로 그룹을 참조하여 'Lots of punctuation' 에서 Lots를 출력하세요.\n",
    "그룹에 이름붙여 하는 법?"
   ]
  },
  {
   "cell_type": "code",
   "execution_count": 29,
   "id": "dcc35b04",
   "metadata": {},
   "outputs": [
    {
     "data": {
      "text/plain": [
       "'Lots'"
      ]
     },
     "execution_count": 29,
     "metadata": {},
     "output_type": "execute_result"
    }
   ],
   "source": [
    "text = 'Lots of punctuation'\n",
    "a = re.compile(r\"(?P<ff>\\w+) \\w+ \\w+\")\n",
    "b = a.match(text)\n",
    "b.group('ff')"
   ]
  },
  {
   "cell_type": "markdown",
   "id": "e406ab8d",
   "metadata": {},
   "source": [
    "# Q17. 'Paris is very very beautiful.'에서 'very very'를 출력하세요.\n"
   ]
  },
  {
   "cell_type": "code",
   "execution_count": 30,
   "id": "df6503a1",
   "metadata": {},
   "outputs": [
    {
     "data": {
      "text/plain": [
       "'very very'"
      ]
     },
     "execution_count": 30,
     "metadata": {},
     "output_type": "execute_result"
    }
   ],
   "source": [
    "text = 'Paris is very very beautiful.'\n",
    "a = re.compile(r\"\\w+ \\w+ (\\w+ \\w+) \\w+.\")\n",
    "b = a.match(text)\n",
    "b.group(1)"
   ]
  },
  {
   "cell_type": "markdown",
   "id": "67fdc6b7",
   "metadata": {},
   "source": [
    "# Q18. 정규표현식을 작성하여 아래와 같이 출력하세요.\n",
    "['1 apple', '5 oranges', '3 boys', '4 girls', '10 army', '11 mr']"
   ]
  },
  {
   "cell_type": "code",
   "execution_count": 2,
   "id": "7863fb04",
   "metadata": {},
   "outputs": [
    {
     "name": "stdout",
     "output_type": "stream",
     "text": [
      "['1 apple', '5 oranges', '3 boys', '4 girls', '10 army', '11 mr']\n"
     ]
    }
   ],
   "source": [
    "import re\n",
    "li = '1 apple, 5 oranges, 3 boys, 4 girls; 10 army| 11 mr'\n",
    "regex = re.compile(r\"\\d+ \\w+\")\n",
    "lii = regex.findall(li)\n",
    "print(lii)"
   ]
  },
  {
   "cell_type": "markdown",
   "id": "fe70af3f",
   "metadata": {},
   "source": [
    "# Q19. text에서 'H,h'만 출력하세요."
   ]
  },
  {
   "cell_type": "code",
   "execution_count": 3,
   "id": "863c975a",
   "metadata": {},
   "outputs": [
    {
     "data": {
      "text/plain": [
       "['H', 'h', 'h']"
      ]
     },
     "execution_count": 3,
     "metadata": {},
     "output_type": "execute_result"
    }
   ],
   "source": [
    "text = 'Hello my friend! Life is short you need Python!'\n",
    "a = re.compile(r\"h\", re.I)   #IGNORECASE : 대소문자를 구분하지 않음\n",
    "b = a.findall(text)\n",
    "b"
   ]
  },
  {
   "cell_type": "code",
   "execution_count": 4,
   "id": "33525ee9",
   "metadata": {},
   "outputs": [
    {
     "data": {
      "text/plain": [
       "['H', 'h', 'h']"
      ]
     },
     "execution_count": 4,
     "metadata": {},
     "output_type": "execute_result"
    }
   ],
   "source": [
    "text = 'Hello my friend! Life is short you need Python!'\n",
    "a = re.compile(r\"[Hh]\")\n",
    "b = a.findall(text)\n",
    "b"
   ]
  },
  {
   "cell_type": "markdown",
   "id": "14529bb7",
   "metadata": {},
   "source": [
    "# Q20. text에서 'H,h'가 아닌 것 모두를 출력하세요."
   ]
  },
  {
   "cell_type": "code",
   "execution_count": 6,
   "id": "d87916ac",
   "metadata": {},
   "outputs": [
    {
     "name": "stdout",
     "output_type": "stream",
     "text": [
      "['e', 'l', 'l', 'o', ' ', 'm', 'y', ' ', 'f', 'r', 'i', 'e', 'n', 'd', '!', ' ', 'L', 'i', 'f', 'e', ' ', 'i', 's', ' ', 's', 'o', 'r', 't', ' ', 'y', 'o', 'u', ' ', 'n', 'e', 'e', 'd', ' ', 'P', 'y', 't', 'o', 'n', '!']\n"
     ]
    }
   ],
   "source": [
    "text = 'Hello my friend! Life is short you need Python!'\n",
    "a = re.compile(r\"[^Hh]\")\n",
    "b = a.findall(text)\n",
    "print(b)"
   ]
  },
  {
   "cell_type": "markdown",
   "id": "f96830f1",
   "metadata": {},
   "source": [
    "0721"
   ]
  },
  {
   "cell_type": "markdown",
   "id": "588e3854",
   "metadata": {},
   "source": [
    "# Q21.  'we are going home'에서 home만 출력하세요.\n"
   ]
  },
  {
   "cell_type": "code",
   "execution_count": 8,
   "id": "66d6c919",
   "metadata": {},
   "outputs": [
    {
     "data": {
      "text/plain": [
       "'home'"
      ]
     },
     "execution_count": 8,
     "metadata": {},
     "output_type": "execute_result"
    }
   ],
   "source": [
    "text = 'we are going home'\n",
    "a = text.split(\" \")\n",
    "a[3]"
   ]
  },
  {
   "cell_type": "code",
   "execution_count": null,
   "id": "dc8c9a23",
   "metadata": {},
   "outputs": [],
   "source": []
  },
  {
   "cell_type": "markdown",
   "id": "86528428",
   "metadata": {},
   "source": [
    "# Q22. '199305, 1923A, a93247'에서 '199305'만 출력하세요.\n"
   ]
  },
  {
   "cell_type": "code",
   "execution_count": 10,
   "id": "01385c96",
   "metadata": {
    "scrolled": true
   },
   "outputs": [
    {
     "data": {
      "text/plain": [
       "'199305'"
      ]
     },
     "execution_count": 10,
     "metadata": {},
     "output_type": "execute_result"
    }
   ],
   "source": [
    "text = '199305, 1923A, a93247'\n",
    "a = text.split(\",\")\n",
    "a[0]"
   ]
  },
  {
   "cell_type": "code",
   "execution_count": null,
   "id": "de3da24f",
   "metadata": {},
   "outputs": [],
   "source": []
  },
  {
   "cell_type": "markdown",
   "id": "37efae04",
   "metadata": {},
   "source": [
    "# Q23. '12345abc'에서 'abc'만 출력하세요."
   ]
  },
  {
   "cell_type": "code",
   "execution_count": 3,
   "id": "f7525504",
   "metadata": {
    "scrolled": true
   },
   "outputs": [
    {
     "data": {
      "text/plain": [
       "'abc'"
      ]
     },
     "execution_count": 3,
     "metadata": {},
     "output_type": "execute_result"
    }
   ],
   "source": [
    "import re\n",
    "text = '12345abc'\n",
    "text[-3:]"
   ]
  },
  {
   "cell_type": "code",
   "execution_count": 7,
   "id": "51cfebff",
   "metadata": {},
   "outputs": [
    {
     "data": {
      "text/plain": [
       "'abc'"
      ]
     },
     "execution_count": 7,
     "metadata": {},
     "output_type": "execute_result"
    }
   ],
   "source": [
    "a = re.search(r\"\\D+\", text)\n",
    "a.group()"
   ]
  },
  {
   "cell_type": "code",
   "execution_count": 13,
   "id": "933f30a5",
   "metadata": {},
   "outputs": [
    {
     "data": {
      "text/plain": [
       "'12345'"
      ]
     },
     "execution_count": 13,
     "metadata": {},
     "output_type": "execute_result"
    }
   ],
   "source": [
    "re.sub(r'\\D+',\"\",text)"
   ]
  },
  {
   "cell_type": "markdown",
   "id": "17b2300b",
   "metadata": {},
   "source": [
    "# Q. '12345abc'에서 'a'만 출력하세요.\n"
   ]
  },
  {
   "cell_type": "code",
   "execution_count": 15,
   "id": "2ced9d6b",
   "metadata": {
    "scrolled": true
   },
   "outputs": [
    {
     "data": {
      "text/plain": [
       "'a'"
      ]
     },
     "execution_count": 15,
     "metadata": {},
     "output_type": "execute_result"
    }
   ],
   "source": [
    "text = '12345abc'\n",
    "text[-3]"
   ]
  },
  {
   "cell_type": "code",
   "execution_count": 16,
   "id": "dfc9ae1e",
   "metadata": {},
   "outputs": [
    {
     "data": {
      "text/plain": [
       "'a'"
      ]
     },
     "execution_count": 16,
     "metadata": {},
     "output_type": "execute_result"
    }
   ],
   "source": [
    "a = re.search(r\"\\D\", text)\n",
    "a.group()"
   ]
  },
  {
   "cell_type": "markdown",
   "id": "b16ecaac",
   "metadata": {},
   "source": [
    "# Q. 'abc12345Abc'에서 'A'만 출력하세요.\n"
   ]
  },
  {
   "cell_type": "code",
   "execution_count": 17,
   "id": "c480e098",
   "metadata": {
    "scrolled": true
   },
   "outputs": [
    {
     "data": {
      "text/plain": [
       "'A'"
      ]
     },
     "execution_count": 17,
     "metadata": {},
     "output_type": "execute_result"
    }
   ],
   "source": [
    "text = 'abc12345Abc'\n",
    "text[-3]"
   ]
  },
  {
   "cell_type": "code",
   "execution_count": 18,
   "id": "36c22062",
   "metadata": {},
   "outputs": [
    {
     "data": {
      "text/plain": [
       "'A'"
      ]
     },
     "execution_count": 18,
     "metadata": {},
     "output_type": "execute_result"
    }
   ],
   "source": [
    "a = re.search(r\"[A-Z]+\", text)\n",
    "a.group()"
   ]
  },
  {
   "cell_type": "markdown",
   "id": "7ca05a19",
   "metadata": {},
   "source": [
    "0722"
   ]
  },
  {
   "cell_type": "markdown",
   "id": "ca067dc9",
   "metadata": {},
   "source": [
    "# Q. 'Banker'에서 'anker', 'banker123'에서 'banker'를 출력하세요\n"
   ]
  },
  {
   "cell_type": "code",
   "execution_count": 6,
   "id": "24860706",
   "metadata": {},
   "outputs": [
    {
     "name": "stdout",
     "output_type": "stream",
     "text": [
      "anker\n",
      "anker\n",
      "banker\n",
      "banker\n"
     ]
    }
   ],
   "source": [
    "import re\n",
    "text = 'Banker'\n",
    "a = re.search(r\"[a-z]+\", text)\n",
    "print(a.group())\n",
    "a = re.search(r\"[^A-Z]+\", text)\n",
    "print(a.group())\n",
    "text = 'banker123'\n",
    "a = re.search(r\"[a-z]+\", text)\n",
    "print(a.group())\n",
    "a = re.search(r\"[\\D]+\", text)\n",
    "print(a.group())\n"
   ]
  },
  {
   "cell_type": "markdown",
   "id": "74712711",
   "metadata": {},
   "source": [
    "# Q. 'KOREA 대한민국'에서 '대'만 출력하세요.\n"
   ]
  },
  {
   "cell_type": "code",
   "execution_count": 3,
   "id": "42343882",
   "metadata": {},
   "outputs": [
    {
     "data": {
      "text/plain": [
       "'대'"
      ]
     },
     "execution_count": 3,
     "metadata": {},
     "output_type": "execute_result"
    }
   ],
   "source": [
    "text = 'KOREA 대한민국'\n",
    "a = re.search(r\"[가-힣]\", text)\n",
    "a.group()"
   ]
  },
  {
   "cell_type": "markdown",
   "id": "f020dbf7",
   "metadata": {},
   "source": [
    "# Q. text에서 'aaaaBBBcccDDDeee'을 모두 출력하세요.\n",
    "text = 'aaaBBccDDeeaaaaBBBcccDDDeeeeeeDDDcccBBBaaaa'\n"
   ]
  },
  {
   "cell_type": "code",
   "execution_count": 6,
   "id": "0a4eecde",
   "metadata": {},
   "outputs": [
    {
     "data": {
      "text/plain": [
       "'aaaaBBBcccDDDeee'"
      ]
     },
     "execution_count": 6,
     "metadata": {},
     "output_type": "execute_result"
    }
   ],
   "source": [
    "text = 'aaaBBccDDeeaaaaBBBcccDDDeeeeeeDDDcccBBBaaaa'\n",
    "a = re.search(r\"[a]{4}\\w{12}\", text)\n",
    "a.group()"
   ]
  },
  {
   "cell_type": "markdown",
   "id": "71d06851",
   "metadata": {},
   "source": [
    "# Q. 아래의 경우에서 \\<html>만 출력하세요\n"
   ]
  },
  {
   "cell_type": "code",
   "execution_count": 8,
   "id": "2d519e4e",
   "metadata": {
    "scrolled": true
   },
   "outputs": [
    {
     "name": "stdout",
     "output_type": "stream",
     "text": [
      "59\n"
     ]
    },
    {
     "data": {
      "text/plain": [
       "'<html>'"
      ]
     },
     "execution_count": 8,
     "metadata": {},
     "output_type": "execute_result"
    }
   ],
   "source": [
    "text = '<html><head><title>Title</title></head><body></body></html>'\n",
    "\n",
    "pattern = re.compile('<.*?>')\n",
    "#탐욕 논 그리디 써보셈 *?는 모든 것중에 가장 짧은것\n",
    "# <p>.*</p> 는 <p>asd</p>asd<p>asd</p> 이런식이면 asdasdasd가 출력됨\n",
    "# <p>.*?</p> 는 <p>asd</p>asd<p>asd</p> 에서 맨앞 asd 만 출력\n",
    "\n",
    "print(len(text))\n",
    "p = pattern.search(text)\n",
    "p.group()\n"
   ]
  },
  {
   "cell_type": "code",
   "execution_count": null,
   "id": "1a395a59",
   "metadata": {},
   "outputs": [],
   "source": []
  },
  {
   "cell_type": "code",
   "execution_count": null,
   "id": "0a08fad9",
   "metadata": {},
   "outputs": [],
   "source": []
  },
  {
   "cell_type": "markdown",
   "id": "a294a68b",
   "metadata": {},
   "source": [
    "# Q. '1234a1234'에서  '1', '2', '3', '4'를 모두 출력하세요.\n"
   ]
  },
  {
   "cell_type": "code",
   "execution_count": 7,
   "id": "9d861054",
   "metadata": {},
   "outputs": [
    {
     "data": {
      "text/plain": [
       "['1', '2', '3', '4', '1', '2', '3', '4']"
      ]
     },
     "execution_count": 7,
     "metadata": {},
     "output_type": "execute_result"
    }
   ],
   "source": [
    "text = '1234a1234'\n",
    "\n",
    "a = re.findall(r\"\\d\", text)  # 리스트\n",
    "# set(a)\n",
    "a"
   ]
  },
  {
   "cell_type": "markdown",
   "id": "c3a068b6",
   "metadata": {},
   "source": [
    "0725"
   ]
  },
  {
   "cell_type": "markdown",
   "id": "6e8a61a1",
   "metadata": {},
   "source": [
    "# Q. "
   ]
  },
  {
   "cell_type": "code",
   "execution_count": null,
   "id": "f0a2a6a9",
   "metadata": {},
   "outputs": [],
   "source": []
  },
  {
   "cell_type": "markdown",
   "id": "a33be53a",
   "metadata": {},
   "source": [
    "# Q. text에서 전체문장 모두 출력하세요.\n"
   ]
  },
  {
   "cell_type": "code",
   "execution_count": 1,
   "id": "3ec7b899",
   "metadata": {},
   "outputs": [
    {
     "name": "stdout",
     "output_type": "stream",
     "text": [
      "what are you doing?\n",
      "it is going to be late for school\n",
      "we need to hurry up\n"
     ]
    }
   ],
   "source": [
    "import re\n",
    "text = \"what are you doing?\\nit is going to be late for school\\nwe need to hurry up\"\n",
    "# regex = re.compile(r'[a-z?\\n\\s]+')\n",
    "regex = re.compile('\\D+')\n",
    "mo = regex.search(text)\n",
    "print(mo.group())\n"
   ]
  },
  {
   "cell_type": "code",
   "execution_count": 2,
   "id": "8adcbca2",
   "metadata": {},
   "outputs": [
    {
     "name": "stdout",
     "output_type": "stream",
     "text": [
      "what are you doing?\n",
      "it is going to be late for school\n",
      "we need to hurry up\n"
     ]
    }
   ],
   "source": [
    "regex = re.compile('.*', re.DOTALL)  # * 는 \\n 빼고 다 \n",
    "mo = regex.search(text)\n",
    "print(mo.group())\n"
   ]
  },
  {
   "cell_type": "markdown",
   "id": "39919da8",
   "metadata": {},
   "source": [
    "# Q. text에서 대소문자 구분없이 전체문장 모두 출력하세요\n"
   ]
  },
  {
   "cell_type": "code",
   "execution_count": 23,
   "id": "fc502c7d",
   "metadata": {},
   "outputs": [
    {
     "data": {
      "text/plain": [
       "'Friend fRiend friEnd FRIEND'"
      ]
     },
     "execution_count": 23,
     "metadata": {},
     "output_type": "execute_result"
    }
   ],
   "source": [
    "text = 'Friend fRiend friEnd FRIEND'\n",
    "a = re.search('[\\w ]+', text)\n",
    "a.group()"
   ]
  },
  {
   "cell_type": "code",
   "execution_count": 88,
   "id": "5812977b",
   "metadata": {},
   "outputs": [
    {
     "name": "stdout",
     "output_type": "stream",
     "text": [
      "F r i e n d f R i e n d f r i E n d F R I E N D "
     ]
    }
   ],
   "source": [
    "text = 'Friend fRiend friEnd FRIEND'\n",
    "a = re.findall('\\w', text)\n",
    "for i in a:\n",
    "    print(i, end=' ')"
   ]
  },
  {
   "cell_type": "code",
   "execution_count": 89,
   "id": "f709ebbf",
   "metadata": {},
   "outputs": [
    {
     "name": "stdout",
     "output_type": "stream",
     "text": [
      "Friend fRiend friEnd FRIEND "
     ]
    }
   ],
   "source": [
    "text = 'Friend fRiend friEnd FRIEND'\n",
    "a = re.findall('\\w+', text)\n",
    "for i in a:\n",
    "    print(i, end=' ')"
   ]
  },
  {
   "cell_type": "code",
   "execution_count": 4,
   "id": "08b4d5cb",
   "metadata": {},
   "outputs": [
    {
     "name": "stdout",
     "output_type": "stream",
     "text": [
      "Friend\n",
      "fRiend\n",
      "friEnd\n",
      "FRIEND\n"
     ]
    }
   ],
   "source": [
    "text = 'Friend fRiend friEnd FRIEND'\n",
    "regex = re.compile('[a-z]+',re.I)\n",
    "mo = regex.findall(text)\n",
    "for i in mo:\n",
    "    print(i)\n"
   ]
  },
  {
   "cell_type": "markdown",
   "id": "d1b6ed2d",
   "metadata": {},
   "source": [
    "# Q. 1609160537.371015을 \"Sat Jun 26 08:35:03 2021\" 포멧으로 출력하세요.\n"
   ]
  },
  {
   "cell_type": "code",
   "execution_count": 25,
   "id": "6c5b699e",
   "metadata": {},
   "outputs": [
    {
     "data": {
      "text/plain": [
       "'Mon Dec 28 22:02:17 2020'"
      ]
     },
     "execution_count": 25,
     "metadata": {},
     "output_type": "execute_result"
    }
   ],
   "source": [
    "import time\n",
    "from datetime import datetime\n",
    "a = 1609160537.371015  # 타임스탬프\n",
    "\n",
    "f = '%a %b %d %H:%M:%S %Y' # 포맷\n",
    "\n",
    "        \n",
    "b = datetime.fromtimestamp(a).strftime(f)  # 타임스탬프a를 f 포맷 스트링으로 변환\n",
    "b                                        \n",
    "\n"
   ]
  },
  {
   "cell_type": "code",
   "execution_count": 7,
   "id": "f2a2ba71",
   "metadata": {},
   "outputs": [
    {
     "data": {
      "text/plain": [
       "'Mon Dec 28 22:02:17 2020'"
      ]
     },
     "execution_count": 7,
     "metadata": {},
     "output_type": "execute_result"
    }
   ],
   "source": [
    "c = datetime.fromtimestamp(a).strftime('%c')\n",
    "c"
   ]
  },
  {
   "cell_type": "code",
   "execution_count": 8,
   "id": "eaf41407",
   "metadata": {
    "scrolled": true
   },
   "outputs": [
    {
     "data": {
      "text/plain": [
       "'Mon Dec 28 22:02:17 2020'"
      ]
     },
     "execution_count": 8,
     "metadata": {},
     "output_type": "execute_result"
    }
   ],
   "source": [
    "timestring = time.ctime(a)\n",
    "timestring"
   ]
  },
  {
   "cell_type": "markdown",
   "id": "965a56b2",
   "metadata": {},
   "source": [
    "ctime() 함수는 주어진 timestamp를 현지 시간대 기준으로 소위 미국에서 흔히 사용되는 요 월 일 시:분:초 년 포멧으로 변환해줍니다. 그냥 간단하게 timestamp가 나타내는 날짜와 시간을 확인해보는 용도로 쓰기에 좋습니다.\n"
   ]
  },
  {
   "cell_type": "code",
   "execution_count": 17,
   "id": "36cc05e3",
   "metadata": {},
   "outputs": [
    {
     "data": {
      "text/plain": [
       "'Mon Dec 28 22:02:17 2020'"
      ]
     },
     "execution_count": 17,
     "metadata": {},
     "output_type": "execute_result"
    }
   ],
   "source": [
    "a = 1609160537.371015\n",
    "b = time.strftime(f, time.localtime(a)) # 타임스탬프a를 f 포맷 스트링으로 변환\n",
    "b"
   ]
  },
  {
   "cell_type": "markdown",
   "id": "0fba3f80",
   "metadata": {},
   "source": [
    "# Q. 현재 날짜와 시간을 \"Sat Jun 26 08:35:03 2021\" 포멧으로 출력하세요.\n"
   ]
  },
  {
   "cell_type": "code",
   "execution_count": 18,
   "id": "e1156a71",
   "metadata": {},
   "outputs": [
    {
     "name": "stdout",
     "output_type": "stream",
     "text": [
      "Tue Jul 26 00:51:41 2022\n"
     ]
    }
   ],
   "source": [
    "a = time.localtime() # 현재 시각을 struct_time으로\n",
    "f = '%a %b %d %H:%M:%S %Y'\n",
    "b = time.strftime(f, a) # struct_time을 str로\n",
    "print(b)\n",
    "\n"
   ]
  },
  {
   "cell_type": "code",
   "execution_count": 19,
   "id": "ba255820",
   "metadata": {},
   "outputs": [
    {
     "data": {
      "text/plain": [
       "time.struct_time(tm_year=2022, tm_mon=7, tm_mday=26, tm_hour=0, tm_min=51, tm_sec=41, tm_wday=1, tm_yday=207, tm_isdst=0)"
      ]
     },
     "execution_count": 19,
     "metadata": {},
     "output_type": "execute_result"
    }
   ],
   "source": [
    "a"
   ]
  },
  {
   "cell_type": "markdown",
   "id": "688efd4c",
   "metadata": {},
   "source": [
    "0726"
   ]
  },
  {
   "cell_type": "markdown",
   "id": "25434266",
   "metadata": {},
   "source": [
    "# Q. 현재 시간을 년-월-일 시:분:초로 출력하세요.\n"
   ]
  },
  {
   "cell_type": "code",
   "execution_count": 1,
   "id": "70b78196",
   "metadata": {},
   "outputs": [
    {
     "data": {
      "text/plain": [
       "'2022-07-27 08:41:48'"
      ]
     },
     "execution_count": 1,
     "metadata": {},
     "output_type": "execute_result"
    }
   ],
   "source": [
    "import time\n",
    "t = time.localtime()  # 스트럭쳐 타임\n",
    "f = '%Y-%m-%d %H:%M:%S'\n",
    "time.strftime(f, t)"
   ]
  },
  {
   "cell_type": "markdown",
   "id": "261c5a08",
   "metadata": {},
   "source": [
    "# Q. 현재 시간을 time.time을 불러와서 년-월-일 시:분:초로 출력하세요.\n"
   ]
  },
  {
   "cell_type": "code",
   "execution_count": 2,
   "id": "0847b8ba",
   "metadata": {},
   "outputs": [
    {
     "data": {
      "text/plain": [
       "'2022-07-27 08:41:48'"
      ]
     },
     "execution_count": 2,
     "metadata": {},
     "output_type": "execute_result"
    }
   ],
   "source": [
    "from datetime import datetime\n",
    "t = time.time()    # 타임 스탬프\n",
    "f = '%Y-%m-%d %H:%M:%S'\n",
    "d = datetime.fromtimestamp(t).strftime(f)\n",
    "d"
   ]
  },
  {
   "cell_type": "markdown",
   "id": "5dc5e172",
   "metadata": {},
   "source": [
    "# Q. 올해 경과된 날짜수 계산하세요\n"
   ]
  },
  {
   "cell_type": "code",
   "execution_count": 3,
   "id": "64b3dfb1",
   "metadata": {},
   "outputs": [
    {
     "data": {
      "text/plain": [
       "208"
      ]
     },
     "execution_count": 3,
     "metadata": {},
     "output_type": "execute_result"
    }
   ],
   "source": [
    "\n",
    "t = time.localtime()\n",
    "t.tm_yday"
   ]
  },
  {
   "cell_type": "code",
   "execution_count": 4,
   "id": "9a8e87f4",
   "metadata": {
    "scrolled": true
   },
   "outputs": [
    {
     "name": "stdout",
     "output_type": "stream",
     "text": [
      "207 days, 8:41:48.950663\n"
     ]
    }
   ],
   "source": [
    "# 두 날짜간의 일수 구하기\n",
    "from datetime import datetime\n",
    "since_timestamp = datetime.strptime('20220101','%Y%m%d')\n",
    "t = time.time()\n",
    "until_timestamp = datetime.fromtimestamp(t)\n",
    "\n",
    "result = until_timestamp - since_timestamp\n",
    "print(result)"
   ]
  },
  {
   "cell_type": "markdown",
   "id": "66aceff5",
   "metadata": {},
   "source": [
    "# Q. 현재 요일을 \"2021-6-26 오늘은 토요일입니다.\"와 같은 형식으로 출력하세요.\n"
   ]
  },
  {
   "cell_type": "code",
   "execution_count": 6,
   "id": "f6eb26e1",
   "metadata": {},
   "outputs": [
    {
     "name": "stdout",
     "output_type": "stream",
     "text": [
      "2022-07-27 오늘은 수요일입니다.\n"
     ]
    }
   ],
   "source": [
    "t = datetime.today()\n",
    "d = datetime.strftime(t, '%Y-%m-%d')\n",
    "u = datetime.strftime(t, '%u' )\n",
    "w = t.weekday()\n",
    "dic = {0:'월',1:'화',2:'수',3:'목',4:'금',5:'토',6:'일'}\n",
    "\n",
    "print(f'{d} 오늘은 {dic[w]}요일입니다.')"
   ]
  },
  {
   "cell_type": "code",
   "execution_count": 18,
   "id": "461fce0f",
   "metadata": {},
   "outputs": [
    {
     "data": {
      "text/plain": [
       "'수'"
      ]
     },
     "execution_count": 18,
     "metadata": {},
     "output_type": "execute_result"
    }
   ],
   "source": [
    "import datetime\n",
    "def get_yoil(y, m, d):\n",
    "    days = ['월','화','수','목','금','토','일']\n",
    "    return days[datetime.date(y, m, d).weekday()]\n",
    "get_yoil(2022,7,27)"
   ]
  },
  {
   "cell_type": "code",
   "execution_count": 20,
   "id": "b3721052",
   "metadata": {
    "scrolled": true
   },
   "outputs": [
    {
     "data": {
      "text/plain": [
       "'2022, 07, 27'"
      ]
     },
     "execution_count": 20,
     "metadata": {},
     "output_type": "execute_result"
    }
   ],
   "source": [
    "t = datetime.datetime.today()\n",
    "d = datetime.datetime.strftime(t, '%Y, %m, %d')\n",
    "# get_yoil(d)\n",
    "d"
   ]
  },
  {
   "cell_type": "markdown",
   "id": "488cafa8",
   "metadata": {},
   "source": [
    "# Q. 1에서 백만까지 더하는데 걸리는 프로그램 실행 시간을 밀리초(ms) 단위로 구하세요.\n"
   ]
  },
  {
   "cell_type": "code",
   "execution_count": 8,
   "id": "debfb5b2",
   "metadata": {},
   "outputs": [
    {
     "name": "stdout",
     "output_type": "stream",
     "text": [
      "걸린 시간 : 141ms\n"
     ]
    }
   ],
   "source": [
    "# 구글링\n",
    "start_time = time.perf_counter()\n",
    "\n",
    "s = 0\n",
    "for i in range(1,1000001):\n",
    "    s += i\n",
    "\n",
    "end_time = time.perf_counter()\n",
    "print(f\"걸린 시간 : {int(round((end_time - start_time) * 1000))}ms\")"
   ]
  },
  {
   "cell_type": "code",
   "execution_count": 9,
   "id": "afa5ed0c",
   "metadata": {},
   "outputs": [
    {
     "name": "stdout",
     "output_type": "stream",
     "text": [
      "CPU times: total: 141 ms\n",
      "Wall time: 153 ms\n"
     ]
    }
   ],
   "source": [
    "s = 0\n",
    "%time for i in range(1,1000001): s += i"
   ]
  },
  {
   "cell_type": "code",
   "execution_count": null,
   "id": "312fd5a4",
   "metadata": {},
   "outputs": [],
   "source": []
  }
 ],
 "metadata": {
  "kernelspec": {
   "display_name": "Python 3 (ipykernel)",
   "language": "python",
   "name": "python3"
  },
  "language_info": {
   "codemirror_mode": {
    "name": "ipython",
    "version": 3
   },
   "file_extension": ".py",
   "mimetype": "text/x-python",
   "name": "python",
   "nbconvert_exporter": "python",
   "pygments_lexer": "ipython3",
   "version": "3.8.13"
  },
  "toc": {
   "base_numbering": 1,
   "nav_menu": {},
   "number_sections": true,
   "sideBar": true,
   "skip_h1_title": false,
   "title_cell": "Table of Contents",
   "title_sidebar": "Contents",
   "toc_cell": false,
   "toc_position": {},
   "toc_section_display": true,
   "toc_window_display": false
  }
 },
 "nbformat": 4,
 "nbformat_minor": 5
}
