{
 "cells": [
  {
   "cell_type": "code",
   "execution_count": null,
   "id": "73e76e16",
   "metadata": {},
   "outputs": [],
   "source": [
    "a1 = 0\n",
    "me = 1"
   ]
  },
  {
   "cell_type": "code",
   "execution_count": null,
   "id": "15ed7860",
   "metadata": {},
   "outputs": [],
   "source": []
  },
  {
   "cell_type": "code",
   "execution_count": null,
   "id": "f9cc68be",
   "metadata": {},
   "outputs": [],
   "source": []
  },
  {
   "cell_type": "code",
   "execution_count": null,
   "id": "e2627a77",
   "metadata": {},
   "outputs": [],
   "source": []
  },
  {
   "cell_type": "code",
   "execution_count": null,
   "id": "8a296beb",
   "metadata": {},
   "outputs": [],
   "source": [
    "print('='*50')\n",
    "print('step over game')\n",
    "name = input(\"플레이 할 이름을 입력하세요.\")\n",
    "print('='*50')"
   ]
  },
  {
   "cell_type": "code",
   "execution_count": null,
   "id": "d32038b0",
   "metadata": {},
   "outputs": [],
   "source": [
    "print(f\"시작해볼까요? {name}\")\n",
    "print(\"step1\")\n",
    "print(\"상대 공격력 0\")"
   ]
  },
  {
   "cell_type": "code",
   "execution_count": null,
   "id": "8a7be347",
   "metadata": {},
   "outputs": [],
   "source": []
  }
 ],
 "metadata": {
  "kernelspec": {
   "display_name": "Python 3 (ipykernel)",
   "language": "python",
   "name": "python3"
  },
  "language_info": {
   "codemirror_mode": {
    "name": "ipython",
    "version": 3
   },
   "file_extension": ".py",
   "mimetype": "text/x-python",
   "name": "python",
   "nbconvert_exporter": "python",
   "pygments_lexer": "ipython3",
   "version": "3.8.13"
  }
 },
 "nbformat": 4,
 "nbformat_minor": 5
}
