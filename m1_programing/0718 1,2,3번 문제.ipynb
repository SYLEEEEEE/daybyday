{
 "cells": [
  {
   "cell_type": "markdown",
   "id": "25a0d2cc",
   "metadata": {},
   "source": [
    "# Q7. 두개의 수를 입력한 후 두개의 수에 대한 사칙연산을 수행하세요.(0을 입력한 경우 다시 입력하도록 조치)"
   ]
  },
  {
   "cell_type": "code",
   "execution_count": 1,
   "id": "fba11591",
   "metadata": {},
   "outputs": [
    {
     "name": "stdout",
     "output_type": "stream",
     "text": [
      "첫번째 숫자1\n",
      "두번째 숫자1\n",
      "덧셈 : 2\n",
      "뺄셈 : 0\n",
      "곱셈 : 1\n",
      "나눗셈 : 1.0\n"
     ]
    }
   ],
   "source": [
    "# class를 만들어서 작성하세요\n",
    "class Cal4:\n",
    "    def __init__(self, a, b):\n",
    "        self.a = a\n",
    "        self.b = b\n",
    "    def add(self):\n",
    "            return self.a+self.b\n",
    "    def sub(self):\n",
    "            return self.a-self.b\n",
    "    def mul(self):\n",
    "            return self.a*self.b\n",
    "    def div(self):\n",
    "            return self.a/self.b\n",
    "while True:\n",
    "    a = int(input(\"첫번째 숫자\"))\n",
    "    b = int(input(\"두번째 숫자\"))\n",
    "    if b == 0:\n",
    "        print(\"0이 아닌 숫자를 입력하세요\")\n",
    "        continue\n",
    "    else:\n",
    "        cals = Cal4(a,b)\n",
    "        print(f\"덧셈 : {cals.add()}\")\n",
    "        print(f\"뺄셈 : {cals.sub()}\")\n",
    "        print(f\"곱셈 : {cals.mul()}\")\n",
    "        print(f\"나눗셈 : {cals.div()}\")\n",
    "        break"
   ]
  },
  {
   "cell_type": "markdown",
   "id": "bc22f092",
   "metadata": {},
   "source": [
    "# Q8. Order 클래스를 상속받아 ExtraOrder 클래스에서 메소드 오버라이딩하여 출력가격에 원이 추가되도록 출력하세요"
   ]
  },
  {
   "cell_type": "code",
   "execution_count": 2,
   "id": "1bf64f9e",
   "metadata": {},
   "outputs": [
    {
     "name": "stdout",
     "output_type": "stream",
     "text": [
      "고갱님의 주문금액은 1000원 입니다\n"
     ]
    }
   ],
   "source": [
    "class Order: \n",
    "    def __init__(self, name): \n",
    "        self.customer = 0 \n",
    "        self.name = name \n",
    "    def order(self, price): \n",
    "        self.customer += price \n",
    "        return self.customer\n",
    "\n",
    "order = Order('고갱')\n",
    "\n",
    "class ExtraOrder(Order):\n",
    "    def __init__(self, name):\n",
    "        super().__init__(name)\n",
    "    def order(self, price):\n",
    "        super().order(price)\n",
    "        print(f'{self.name}님의 주문금액은 {self.customer}원 입니다')\n",
    "order = ExtraOrder('고갱')\n",
    "order.order(1000)\n"
   ]
  },
  {
   "cell_type": "markdown",
   "id": "6e7c15e8",
   "metadata": {},
   "source": [
    "#  Q9. 업무미팅이 2시임을 알려주는 자동 이메일 클래스 AutoEmail을 작성하여 아래와 같이 출력하세요 (미팅이 진행되는 2시에는 업무미팅이 진행중이라는 문구를 추가)\n",
    "\n",
    "안녕하세요 고갱님. 업무미팅은 2시입니다."
   ]
  },
  {
   "cell_type": "code",
   "execution_count": 3,
   "id": "dfde34f5",
   "metadata": {},
   "outputs": [
    {
     "name": "stdout",
     "output_type": "stream",
     "text": [
      "고갱님, 업무미팅이 진행중 입니다.\n"
     ]
    }
   ],
   "source": [
    "import time\n",
    "class AutoEmail:\n",
    "    def __init__(self, name, t):\n",
    "        self.name = name\n",
    "        self.t = t\n",
    "    def alarm(self):\n",
    "        if time.localtime().tm_hour==self.t:\n",
    "            print(f\"{self.name}님, 업무미팅이 진행중 입니다.\")\n",
    "        else:\n",
    "            print(f\"안녕하세요 {self.name}님, 업무미팅은 {self.t}시 입니다.\")\n",
    "AE= AutoEmail(\"고갱\",9)\n",
    "AE.alarm()        "
   ]
  }
 ],
 "metadata": {
  "kernelspec": {
   "display_name": "Python 3 (ipykernel)",
   "language": "python",
   "name": "python3"
  },
  "language_info": {
   "codemirror_mode": {
    "name": "ipython",
    "version": 3
   },
   "file_extension": ".py",
   "mimetype": "text/x-python",
   "name": "python",
   "nbconvert_exporter": "python",
   "pygments_lexer": "ipython3",
   "version": "3.8.13"
  },
  "toc": {
   "base_numbering": 1,
   "nav_menu": {},
   "number_sections": true,
   "sideBar": true,
   "skip_h1_title": false,
   "title_cell": "Table of Contents",
   "title_sidebar": "Contents",
   "toc_cell": false,
   "toc_position": {},
   "toc_section_display": true,
   "toc_window_display": false
  }
 },
 "nbformat": 4,
 "nbformat_minor": 5
}
